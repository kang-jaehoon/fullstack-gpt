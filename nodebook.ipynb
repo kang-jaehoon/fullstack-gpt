{
 "cells": [
  {
   "cell_type": "code",
   "execution_count": 18,
   "metadata": {},
   "outputs": [
    {
     "data": {
      "text/plain": [
       "\"\\nThe number of planets in the universe is a topic of ongoing research and debate, as new discoveries are constantly being made. However, based on our current understanding, there are likely to be thousands of planets in the observable universe alone. Here are some estimates:\\n\\n1. Planets in the Milky Way galaxy: The Milky Way galaxy is estimated to contain between 200 and 400 billion stars, and each star is likely to have at least one planet in its habitable zone. This means that there could be tens of billions of planets in the Milky Way alone.\\n2. Exoplanets discovered so far: As of March 2023, there are over 4,000 exoplanets that have been discovered orbiting other stars in the universe. This number is constantly growing as new discoveries are made using advanced telescopes and space missions.\\n3. Potential number of planets in the observable universe: The observable universe is estimated to contain over 200 billion galaxies, each containing billions of stars. While not all of these stars may have planets, it's likely that there are tens of billions of planets in the observable universe alone.\\n4. Estimated number of habitable exoplanets: While we don't know exactly how many habitable exoplanets exist, scientists estimate that there could be tens of billions of potentially habitable exoplanets in the Milky Way galaxy alone. This means that the number of potentially habitable planets in the observable universe could be even higher.\\n\\nIn summary, while we don't know exactly how many planets there are in the universe, it's likely that there are tens of billions of planets in the observable universe alone, with thousands of exoplanets discovered so far and likely many more yet to be found.\""
      ]
     },
     "execution_count": 18,
     "metadata": {},
     "output_type": "execute_result"
    }
   ],
   "source": [
    "## LLM, ChatModel 두가지를 호출해보자.\n",
    "from langchain.llms.openai import OpenAI\n",
    "from langchain.chat_models import ChatOllama\n",
    "\n",
    "llm = OpenAI()\n",
    "chat = ChatOllama(model_name=\"llama3\")\n",
    "\n",
    "# a = llm.predict(\"How many planets are there?\")\n",
    "b = chat.predict(\"How many planets are there?\")\n",
    "\n",
    "b\n",
    "\n",
    "\n",
    "\n"
   ]
  },
  {
   "cell_type": "markdown",
   "metadata": {},
   "source": []
  }
 ],
 "metadata": {
  "kernelspec": {
   "display_name": "env",
   "language": "python",
   "name": "python3"
  },
  "language_info": {
   "codemirror_mode": {
    "name": "ipython",
    "version": 3
   },
   "file_extension": ".py",
   "mimetype": "text/x-python",
   "name": "python",
   "nbconvert_exporter": "python",
   "pygments_lexer": "ipython3",
   "version": "3.9.6"
  }
 },
 "nbformat": 4,
 "nbformat_minor": 2
}
