{
 "cells": [
  {
   "cell_type": "code",
   "execution_count": 22,
   "metadata": {},
   "outputs": [
    {
     "name": "stdout",
     "output_type": "stream",
     "text": [
      "llama3\n",
      "llama3\n",
      "a:  🚀 As of now, there are eight planets officially recognized in our solar system:\n",
      "\n",
      "1. Mercury\n",
      "2. Venus\n",
      "3. Earth\n",
      "4. Mars\n",
      "5. Jupiter\n",
      "6. Saturn\n",
      "7. Uranus\n",
      "8. Neptune\n",
      "\n",
      "However, if you include dwarf planets and other smaller bodies like Pluto, Haumea, Makemake, Eris, and many others, the total number of celestial bodies in our solar system would be much higher! 🤯\n",
      "b:  🚀 According to NASA, there are currently eight planets that are officially recognized in our solar system:\n",
      "\n",
      "1. Mercury\n",
      "2. Mars\n",
      "3. Venus\n",
      "4. Earth\n",
      "5. Neptune\n",
      "6. Uranus\n",
      "7. Saturn\n",
      "8. Jupiter\n",
      "\n",
      "However, Pluto was previously considered a planet but is now classified as a dwarf planet.\n",
      "\n",
      "If we include exoplanets (planets outside our solar system), the number of known planets is over 4,000 and continues to grow as new discoveries are made! 🚀\n"
     ]
    }
   ],
   "source": [
    "## LLM, ChatModel 두가지를 호출해보자.\n",
    "from langchain.llms.ollama import Ollama\n",
    "from langchain.chat_models import ChatOllama\n",
    "\n",
    "llm = Ollama(model=\"llama3\")\n",
    "chat = ChatOllama(model=\"llama3\")\n",
    "\n",
    "a = llm.predict(\"행성은 몇 개 있나요?\")\n",
    "b = chat.predict(\"행성은 몇 개 있나요?\")\n",
    "\n",
    "\n",
    "print(llm.model)\n",
    "print(chat.model)\n",
    "\n",
    "print(\"a: \", a)\n",
    "print(\"b: \", b)\n",
    "\n"
   ]
  },
  {
   "cell_type": "code",
   "execution_count": 29,
   "metadata": {},
   "outputs": [
    {
     "name": "stdout",
     "output_type": "stream",
     "text": [
      "😊\n",
      "\n",
      "현재 우리 태양계에서 known universe에 있는 행성의 수는 다음과 같습니다.\n",
      "\n",
      "* 나.writeValue(1) (Mercury)\n",
      "* Earth\n",
      "* Mars\n",
      "* Venus\n",
      "* Jupiter\n",
      "* Saturn\n",
      "* Uranus\n",
      "* Neptune\n",
      "\n",
      "이 중에서 태양계 내부에서는 8개의 행성이 있습니다. 하지만 외계행성까지 포함하면 수백, 천수에 이르는 수가 있습니다.\n",
      "\n",
      "이 답변이 도움이 되었나요? 🤔\n"
     ]
    }
   ],
   "source": [
    "## 메시지들을 predict해보자.\n",
    "from langchain.chat_models import ChatOllama\n",
    "\n",
    "chat = ChatOllama(\n",
    "  model=\"llama3\",\n",
    "  temperature=0.1\n",
    "  )\n",
    "\n",
    "b = chat.predict(\"질문: 행성은 몇 개 있나요?, 조건: 한국어로 답해야한다.\")\n",
    "\n",
    "print(b)"
   ]
  }
 ],
 "metadata": {
  "kernelspec": {
   "display_name": "env",
   "language": "python",
   "name": "python3"
  },
  "language_info": {
   "codemirror_mode": {
    "name": "ipython",
    "version": 3
   },
   "file_extension": ".py",
   "mimetype": "text/x-python",
   "name": "python",
   "nbconvert_exporter": "python",
   "pygments_lexer": "ipython3",
   "version": "3.9.6"
  }
 },
 "nbformat": 4,
 "nbformat_minor": 2
}
