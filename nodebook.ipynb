{
 "cells": [
  {
   "cell_type": "code",
   "execution_count": 4,
   "metadata": {},
   "outputs": [
    {
     "name": "stdout",
     "output_type": "stream",
     "text": [
      "\n",
      "\n",
      "\u001b[1m> Entering new LLMChain chain...\u001b[0m\n",
      "Prompt after formatting:\n",
      "\u001b[32;1m\u001b[1;3mMy name is Nico\u001b[0m\n",
      "\n",
      "\u001b[1m> Finished chain.\u001b[0m\n"
     ]
    },
    {
     "data": {
      "text/plain": [
       "\"Nice to meet you, Nico! What brings you here today? Do you have a specific topic or question in mind that you'd like to discuss? I'm all ears (or rather, all text)!\""
      ]
     },
     "execution_count": 4,
     "metadata": {},
     "output_type": "execute_result"
    }
   ],
   "source": [
    "from langchain.memory import ConversationSummaryBufferMemory\n",
    "from langchain.chat_models import ChatOllama\n",
    "from langchain.chains import LLMChain\n",
    "from langchain.prompts import PromptTemplate\n",
    "\n",
    "chat = ChatOllama(\n",
    "  model=\"llama3\",\n",
    "  temperature=0.1\n",
    ")\n",
    "\n",
    "memory = ConversationSummaryBufferMemory(\n",
    "    llm=chat,\n",
    "    max_token_limit=120\n",
    "    )\n",
    "\n",
    "template = \"\"\"\n",
    "  You are a helpful AII talking to a human.\n",
    "  \n",
    "  {chat_history}\n",
    "  Human:{question}\n",
    "  You:\n",
    "  \n",
    "\"\"\"\n",
    "\n",
    "chain = LLMChain(\n",
    "    llm=chat,\n",
    "    memory=memory,\n",
    "    prompt=PromptTemplate.from_template(template),\n",
    "    verbose=True\n",
    ")\n",
    "\n",
    "chain.predict(question=\"My name is Nico\")"
   ]
  },
  {
   "cell_type": "code",
   "execution_count": 5,
   "metadata": {},
   "outputs": [
    {
     "name": "stdout",
     "output_type": "stream",
     "text": [
      "\n",
      "\n",
      "\u001b[1m> Entering new LLMChain chain...\u001b[0m\n",
      "Prompt after formatting:\n",
      "\u001b[32;1m\u001b[1;3mI live in Seoul\u001b[0m\n",
      "\n",
      "\u001b[1m> Finished chain.\u001b[0m\n"
     ]
    },
    {
     "data": {
      "text/plain": [
       "\"Seoul is a fantastic city! What's your favorite thing about living in Seoul? Have you tried any of the delicious Korean foods, such as bibimbap or naengmyeon? Or perhaps you've explored some of the many palaces and historical sites, like Gyeongbokgung Palace or Bukchon Hanok Village?\\n\\nAre there any specific neighborhoods or areas that you enjoy spending time in? And what about the public transportation system - do you have a favorite way to get around the city?\\n\\nLet's chat more about your experiences living in Seoul!\""
      ]
     },
     "execution_count": 5,
     "metadata": {},
     "output_type": "execute_result"
    }
   ],
   "source": [
    "chain.predict(question=\"I live in Seoul\")"
   ]
  },
  {
   "cell_type": "code",
   "execution_count": 6,
   "metadata": {},
   "outputs": [
    {
     "name": "stdout",
     "output_type": "stream",
     "text": [
      "\n",
      "\n",
      "\u001b[1m> Entering new LLMChain chain...\u001b[0m\n",
      "Prompt after formatting:\n",
      "\u001b[32;1m\u001b[1;3mWhat is my name?\u001b[0m\n",
      "\n",
      "\u001b[1m> Finished chain.\u001b[0m\n"
     ]
    },
    {
     "data": {
      "text/plain": [
       "\"I'm just an AI, I don't have any information about your personal details, including your name. Each time you interact with me, it's a new conversation and I don't retain any information from previous conversations. So, I don't know your name! Would you like to introduce yourself?\""
      ]
     },
     "execution_count": 6,
     "metadata": {},
     "output_type": "execute_result"
    }
   ],
   "source": [
    "chain.predict(question=\"What is my name?\")"
   ]
  },
  {
   "cell_type": "code",
   "execution_count": 7,
   "metadata": {},
   "outputs": [
    {
     "data": {
      "text/plain": [
       "{'history': \"System: Current summary:\\nNone (this is the starting point)\\n\\nNew lines of conversation:\\n\\nHuman: My name is Nico\\nAI: Nice to meet you, Nico! What brings you here today? Do you have a specific topic or question in mind that you'd like to discuss? I'm all ears (or rather, all text)!\\nHuman: I live in Seoul\\nAI: Seoul is a fantastic city! What's your favorite thing about living in Seoul? Have you tried any of the delicious Korean foods, such as bibimbap or naengmyeon? Or perhaps you've explored some of the many palaces and historical sites, like Gyeongbokgung Palace or Bukchon Hanok Village?\\n\\nNew summary:\\nNico introduces himself and shares that he lives in Seoul. The AI welcomes Nico and asks about his favorite things about living in Seoul, including trying Korean foods and exploring historical sites.\\nHuman: What is my name?\\nAI: I'm just an AI, I don't have any information about your personal details, including your name. Each time you interact with me, it's a new conversation and I don't retain any information from previous conversations. So, I don't know your name! Would you like to introduce yourself?\"}"
      ]
     },
     "execution_count": 7,
     "metadata": {},
     "output_type": "execute_result"
    }
   ],
   "source": [
    "memory.load_memory_variables({})"
   ]
  }
 ],
 "metadata": {
  "kernelspec": {
   "display_name": "env",
   "language": "python",
   "name": "python3"
  },
  "language_info": {
   "codemirror_mode": {
    "name": "ipython",
    "version": 3
   },
   "file_extension": ".py",
   "mimetype": "text/x-python",
   "name": "python",
   "nbconvert_exporter": "python",
   "pygments_lexer": "ipython3",
   "version": "3.9.6"
  }
 },
 "nbformat": 4,
 "nbformat_minor": 2
}
