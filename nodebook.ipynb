{
 "cells": [
  {
   "cell_type": "code",
   "execution_count": 3,
   "metadata": {},
   "outputs": [
    {
     "name": "stderr",
     "output_type": "stream",
     "text": [
      "Created a chunk of size 211, which is longer than the specified 200\n",
      "Created a chunk of size 212, which is longer than the specified 200\n",
      "Created a chunk of size 217, which is longer than the specified 200\n",
      "Created a chunk of size 222, which is longer than the specified 200\n"
     ]
    },
    {
     "data": {
      "text/plain": [
       "'Based on the provided text, I can answer the question:\\n\\nThe service is a payment method that allows users to send already charged KakaoPay money by scanning a QR code.'"
      ]
     },
     "execution_count": 3,
     "metadata": {},
     "output_type": "execute_result"
    }
   ],
   "source": [
    "# document_loaders를 통해 다양한 문서를 읽어올 수 있다.\n",
    "from langchain.llms.ollama import Ollama\n",
    "from langchain.document_loaders import UnstructuredFileLoader\n",
    "from langchain.text_splitter import CharacterTextSplitter\n",
    "from langchain.vectorstores import Chroma\n",
    "from langchain_community.embeddings import OllamaEmbeddings\n",
    "from langchain.embeddings import CacheBackedEmbeddings\n",
    "from langchain.storage import LocalFileStore\n",
    "from langchain.prompts import ChatPromptTemplate\n",
    "from langchain.schema.runnable import RunnablePassthrough, RunnableLambda\n",
    "\n",
    "llm = Ollama(\n",
    "  model=\"llama3:latest\",\n",
    "  temperature=0.1\n",
    ")\n",
    "\n",
    "cache_dir = LocalFileStore(\"./.cache/\")\n",
    "\n",
    "splitter = CharacterTextSplitter.from_tiktoken_encoder(\n",
    "  separator=\"\\n\",\n",
    "  chunk_size=200, # 각 청크의 최대 길이(200개의 문자)\n",
    "  chunk_overlap=50 # 청크간의 중첩 길이(이전 50개의 문자)\n",
    ")\n",
    "\n",
    "loader = UnstructuredFileLoader(\"./files/chapter_one.txt\")\n",
    "docs = loader.load_and_split(text_splitter=splitter)\n",
    "\n",
    "embeddings = OllamaEmbeddings(\n",
    "  base_url=\"http://localhost:11434\",  # 모델 서버의 URL\n",
    "  model=\"llama3:latest\"\n",
    ")\n",
    "\n",
    "cache_embeddings = CacheBackedEmbeddings.from_bytes_store(\n",
    "  embeddings, cache_dir\n",
    ")\n",
    "\n",
    "\n",
    "vectorstore = Chroma.from_documents(docs, cache_embeddings)\n",
    "\n",
    "retriver = vectorstore.as_retriever()\n",
    "\n",
    "prompt = ChatPromptTemplate.from_messages([\n",
    "  (\"system\", \"You are a helpful assistant. Answer questions using only the following context. If you don't know the answer just say you don't know, don't make it up:\\n\\n{context}\"),\n",
    "  (\"human\", \"{question}\")\n",
    "])\n",
    "\n",
    "# list of docs\n",
    "# for doc in list of docs | prompt | llm\n",
    "# for response in list of llms response | put them all together\n",
    "# final doc | prompt | llm\n",
    "\n",
    "map_doc_prompt = ChatPromptTemplate.from_messages(\n",
    "  [\n",
    "    (\n",
    "      \"system\",\n",
    "      \"\"\"\n",
    "      Use the following protion of a long document to see if any of the text is relevant to answer the question. Return any relevant text verbatim.\n",
    "      ------\n",
    "      {context}\n",
    "      \"\"\"\n",
    "    ),\n",
    "    (\"human\", \"{question}\")\n",
    "  ]\n",
    ")\n",
    "\n",
    "map_doc_chain = map_doc_prompt | llm\n",
    "\n",
    "def map_docs(inputs):\n",
    "  documents = inputs['documents']\n",
    "  question = inputs['question']\n",
    "  return \"\\n\\n\".join(\n",
    "    map_doc_chain.invoke(\n",
    "      {\"context\": doc.pㅁage_content,\"question\": question}\n",
    "    )\n",
    "    for doc in documents\n",
    "    )\n",
    "\n",
    "map_chain = { \"documents\": retriver, \"question\": RunnablePassthrough() } | RunnableLambda(map_docs)\n",
    "\n",
    "final_prompt = ChatPromptTemplate.from_messages([\n",
    "  (\n",
    "    \"system\",\n",
    "    \"\"\"\n",
    "    Given the following extracted parts of a long docment and a question, create a final answer.\n",
    "    If you don't know the answer, just say that you don't know. Don't try to make up an answer.\n",
    "    ------\n",
    "    {context}\n",
    "    \"\"\",\n",
    "  ),  \n",
    "  (\"human\", \"{question}\")\n",
    "])\n",
    "\n",
    "chain = { \"context\": map_chain, \"question\": RunnablePassthrough() } | final_prompt | llm\n",
    "\n",
    " \n",
    "\n",
    "chain.invoke(\"카카오페이는 무슨 서비스입니까?\")\n"
   ]
  },
  {
   "cell_type": "code",
   "execution_count": null,
   "metadata": {},
   "outputs": [],
   "source": []
  }
 ],
 "metadata": {
  "kernelspec": {
   "display_name": "env",
   "language": "python",
   "name": "python3"
  },
  "language_info": {
   "codemirror_mode": {
    "name": "ipython",
    "version": 3
   },
   "file_extension": ".py",
   "mimetype": "text/x-python",
   "name": "python",
   "nbconvert_exporter": "python",
   "pygments_lexer": "ipython3",
   "version": "3.9.6"
  }
 },
 "nbformat": 4,
 "nbformat_minor": 2
}
