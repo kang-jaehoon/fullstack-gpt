{
 "cells": [
  {
   "cell_type": "code",
   "execution_count": 13,
   "metadata": {},
   "outputs": [
    {
     "data": {
      "text/plain": [
       "[Document(metadata={'source': './files/chapter_one.txt'}, page_content='카카오페이(kakaopay)는 (주)카카오페이가 제공하는 송금이나 결제를 할 수 있는 핀테크 서비스이다. 2014년 9월 5일 서비스를 개시했다.2017년 4월에는 주식회사 카카오페이라는 법인을 만들어 분사하였다. 모기업인 카카오가 55%의 지분을 가지고 있고 알리페이가 39.1%의 지분을 가지고 있다.처음에는 간편 결제 서비스만 제공했지만, 지금은 송금, 청구서, 인증, 멤버십 연동 등 다양한 서비스를 제공한다.\\n본래 온라인 카드결제만 운용했으며, 서비스 초기에는 LG CNS 기반의 시스템이었고 일부 카드사는 등록되지 않았다. \\n2018년 말에 기존 LG CNS 기반 시스템에서 자체개발 시스템으로 전환하여 등록 가능 카드사가 확대됐다.\\n2018년 1월 10일에는 선불카드인 \"카카오페이카드\"를 출시했다. 카카오페이카드는 캐릭터가 라이언 밖에 없다. \\n비씨카드망을 이용하고, 온·오프라인 가맹점에서 카카오페이머니로 결제할 수 있는 선불카드다. 카카오페이카드는 일반형과 대한항공 마일리지가 적립되는 스카이패스형이 있다.'),\n",
       " Document(metadata={'source': './files/chapter_one.txt'}, page_content='2018년 5월 9일에는 오프라인 매장결제 서비스를 시행했다. 직불결제 형태이지만, 카카오페이에 입출금통장을 등록한 후 해당 통장에서 카카오페이머니를 충전하여 직접 쓰는 방식이다.\\n카카오페이머니는 등록한 계좌에서 대부분 1만 원 이상 충전이 가능하지만, NH농협은행에서 나오는 \"NH X 카카오페이 통장\"의 경우는 1만 원 미만의 금액도 카카오페이머니 충전이 가능하다.\\n2018년에는 QR코드 결제도 추가했는데, 바코드를 통해 곧바로 카카오페이머니로 결제하는 오프라인 매장결제와 달리 QR코드를 스캔한 후 이미 충전해 놓은 카카오페이머니를 송금하는 방식이다.\\n2019년에는 카카오페이 애플리케이션이 출시되었다. 사용자가 따로 애플리케이션 설치 없이, 카카오톡에서 사용이 가능하다.\\n2019년 8월 8일에는 기존 카카오페이머니 결제 외에 페이코/SSG페이같은 오프라인 카드 결제도 추가했으며, SPC그룹 계열 등을 시작으로 시행했다. \\n단, 전북은행/제주은행/광주은행은 이 기능을 지원하지 않는다. 그리고 지원하는 카드사라도 모든 카드를 지원하지 않을 수 있다.\\n2020년에는 선불카드인 \"카카오페이카드2\"를 출시했다. 카카오페이카드2는 다양한 캐릭터로 나온다.')]"
      ]
     },
     "execution_count": 13,
     "metadata": {},
     "output_type": "execute_result"
    }
   ],
   "source": [
    "from langchain.chat_models import ChatOllama\n",
    "from langchain.document_loaders import TextLoader\n",
    "from langchain.document_loaders import PyPDFLoader\n",
    "from langchain.document_loaders import UnstructuredFileLoader\n",
    "from langchain.text_splitter import RecursiveCharacterTextSplitter\n",
    "from langchain.text_splitter import CharacterTextSplitter\n",
    "\n",
    "\n",
    "chat = ChatOllama(\n",
    "  model=\"phi3:medium\",\n",
    "  temperature=0.1\n",
    ")\n",
    "\n",
    "# splitter = RecursiveCharacterTextSplitter(\n",
    "#   chunk_size=200,\n",
    "#    # 그냥 짜르면 문장이 짤리기 떄문에 앞뒤로 일정부분 중복되어 문장을 가져온다.\n",
    "#   chunk_overlap=50      \n",
    "# )\n",
    "\n",
    "splitter = CharacterTextSplitter(\n",
    "  separator=\"\\n\",\n",
    "  # chunk_size=600,\n",
    "  # chunk_overlap=50      \n",
    ")\n",
    "\n",
    "loader = TextLoader(\"./files/chapter_one.txt\")\n",
    "# loader = PyPDFLoader(\"./files/chapter_one.pdf\")\n",
    "# loader = UnstructuredFileLoader(\"./files/chapter_one.pdf\")\n",
    "# loader = UnstructuredFileLoader(\"./files/chapter_one.docx\")\n",
    "\n",
    "\n",
    "# # 방법1\n",
    "# docs = loader.load()\n",
    "# splitter.split_documents(docs)\n",
    "\n",
    "# 방법2\n",
    "len(loader.load_and_split(text_splitter=splitter))\n",
    "loader.load_and_split(text_splitter=splitter)\n",
    "\n",
    "\n"
   ]
  }
 ],
 "metadata": {
  "kernelspec": {
   "display_name": "env",
   "language": "python",
   "name": "python3"
  },
  "language_info": {
   "codemirror_mode": {
    "name": "ipython",
    "version": 3
   },
   "file_extension": ".py",
   "mimetype": "text/x-python",
   "name": "python",
   "nbconvert_exporter": "python",
   "pygments_lexer": "ipython3",
   "version": "3.9.6"
  }
 },
 "nbformat": 4,
 "nbformat_minor": 2
}
